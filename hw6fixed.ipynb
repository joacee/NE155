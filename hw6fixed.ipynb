{
 "cells": [
  {
   "cell_type": "code",
   "execution_count": 210,
   "metadata": {
    "collapsed": true
   },
   "outputs": [],
   "source": [
    "import numpy as np\n",
    "import scipy as sp\n",
    "import scipy.linalg as solve\n",
    "from numpy import linalg as la\n",
    "def gauss(A, b, x,  tol = 10**(-6), sc = 10**(-6)):\n",
    "    #FORM: A x = b ----> A: matrix, x: vector, b: vector\n",
    "    #A, b, x - matrices used to generate soln, x is first guess of soln\n",
    "    #tol = absolute tolerance for convergence (default is set to 10^-6)\n",
    "    #sc = stopping criterion (relative error)\n",
    "    #to use only tol or sc option for convergence condition, set the other option to -1.\n",
    "    LD = np.tril(A)\n",
    "    U = A - LD\n",
    "    i = 1\n",
    "    temp = x\n",
    "    x = np.dot(np.linalg.inv(LD), b - np.dot(U, x))\n",
    "    err = abs(temp - x)\n",
    "    maxerr = max(err) \n",
    "    maxrelerr = max(err / x)\n",
    "    while (maxerr > tol and maxrelerr > sc):\n",
    "        i += 1\n",
    "        temp = x\n",
    "        x = np.dot(np.linalg.inv(LD), b - np.dot(U, x))\n",
    "        err = abs(temp - x)\n",
    "        maxerr = max(err)\n",
    "        maxrelerr = max(err / x)\n",
    "    return (x,i) #Return solution and number of iterations"
   ]
  },
  {
   "cell_type": "code",
   "execution_count": 211,
   "metadata": {
    "collapsed": true
   },
   "outputs": [],
   "source": [
    "# a lower, b middle, c upper, d rhs\n",
    "# reference : https://gist.github.com/ofan666/1875903\n",
    "def thomas(a, b, c, d):\n",
    "    n = len(b)\n",
    "    x = np.ones(n)\n",
    "    for i in range (1, n):\n",
    "        m = a[i - 1] / b[i - 1]\n",
    "        b[i] = b[i] - m * c[i - 1]\n",
    "        d[i] = d[i] - m * d[i - 1]\n",
    "    x[n - 1] = d[n - 1] / b[n - 1]\n",
    "    k = n - 2\n",
    "    while k >= 0:\n",
    "        x[k] = (d[k] - c[k] * x[k + 1]) / b[k]\n",
    "        k = k - 1\n",
    "    return x \n"
   ]
  },
  {
   "cell_type": "code",
   "execution_count": 212,
   "metadata": {
    "collapsed": true
   },
   "outputs": [],
   "source": [
    "def fdsolver(h):\n",
    "    D = 1\n",
    "    sigma = 0.2\n",
    "    S = 8\n",
    "    L2 = D / sigma\n",
    "    sol = thomas(np.ones(8 / h - 2) * -1,np.ones(8 / h - 1) * (2 + h**2.0 / L2), np.ones(8 / h - 2) * -1, np.ones(8 / h -1) * h**2 * S / D)\n",
    "    sol = np.append([0], sol)\n",
    "    sol = np.append(sol, [0])\n",
    "    return sol"
   ]
  },
  {
   "cell_type": "code",
   "execution_count": 214,
   "metadata": {
    "collapsed": false
   },
   "outputs": [
    {
     "data": {
      "text/plain": [
       "<matplotlib.text.Text at 0x16ae6630>"
      ]
     },
     "execution_count": 214,
     "metadata": {},
     "output_type": "execute_result"
    },
    {
     "data": {
      "image/png": "[encoded data removed]",
      "text/plain": [
       "<matplotlib.figure.Figure at 0x1644c6a0>"
      ]
     },
     "metadata": {},
     "output_type": "display_data"
    }
   ],
   "source": [
    "#Problem 2 using Finite diff method and THOMAS ALGS\n",
    "h = 0.1\n",
    "f = fdsolver(h)\n",
    "x = np.linspace(-4, 4, 8 / h + 1)\n",
    "fref = 40 * (1 - np.cosh(np.sqrt(0.2) * x)/np.cosh(np.sqrt(0.2) * 4))\n",
    "%matplotlib inline\n",
    "import matplotlib.pyplot as plt\n",
    "plt.plot(x, f, 'r')\n",
    "plt.plot(x, fref, 'g')\n",
    "plt.legend((\"numerical\", \"analytical\"), loc=\"upper right\")\n",
    "plt.xlabel(\"x (cm)\")\n",
    "plt.ylabel(\"Flux (n/cm^2 s)\")\n",
    "plt.title(\"Flux vs X using h = 0.1 cm\")"
   ]
  },
  {
   "cell_type": "code",
   "execution_count": 216,
   "metadata": {
    "collapsed": false
   },
   "outputs": [
    {
     "name": "stdout",
     "output_type": "stream",
     "text": [
      "[  8.44660179e-03   2.30286448e-03   9.84273962e-05   2.48043656e-05\n",
      "   9.98489371e-07]\n"
     ]
    }
   ],
   "source": [
    "#Problem 3. Find the relation between error and total number of meshes h = 1, 0.5, 0.1, 0.05, 0.01\n",
    "error = np.zeros(5)\n",
    "# h = 1 \n",
    "h = 1\n",
    "f = fdsolver(h)\n",
    "x = np.linspace(-4, 4, 8 / h + 1)\n",
    "fref = 40 * (1 - np.cosh(np.sqrt(0.2) * x)/np.cosh(np.sqrt(0.2) * 4))\n",
    "fref = fref[1 : int(8 / h)]\n",
    "f = f[1 : int(8 / h)]\n",
    "relerror = abs(fref - f) / fref\n",
    "error[0] = max(relerror)\n",
    "# h = 0.5 \n",
    "\n",
    "h = 0.5\n",
    "f = fdsolver(h)\n",
    "x = np.linspace(-4, 4, 8 / h + 1)\n",
    "fref = 40 * (1 - np.cosh(np.sqrt(0.2) * x)/np.cosh(np.sqrt(0.2) * 4))\n",
    "fref = fref[1 : int(8 / h)]\n",
    "f = f[1 : int(8 / h)]\n",
    "relerror = abs(fref - f) / fref\n",
    "error[1] = max(relerror)\n",
    "\n",
    "# h = 0.1\n",
    "\n",
    "h = 0.1\n",
    "f = fdsolver(h)\n",
    "x = np.linspace(-4, 4, 8 / h + 1)\n",
    "fref = 40 * (1 - np.cosh(np.sqrt(0.2) * x)/np.cosh(np.sqrt(0.2) * 4))\n",
    "fref = fref[1 : int(8 / h)]\n",
    "f = f[1 : int(8 / h)]\n",
    "relerror = abs(fref - f) / fref\n",
    "error[2] = max(relerror)\n",
    "\n",
    "# h = 0.1\n",
    "\n",
    "h = 0.05\n",
    "f = fdsolver(h)\n",
    "x = np.linspace(-4, 4, 8 / h + 1)\n",
    "fref = 40 * (1 - np.cosh(np.sqrt(0.2) * x)/np.cosh(np.sqrt(0.2) * 4))\n",
    "fref = fref[1 : int(8 / h)]\n",
    "f = f[1 : int(8 / h)]\n",
    "relerror = abs(fref - f) / fref\n",
    "error[3] = max(relerror)\n",
    "\n",
    "h = 0.01\n",
    "f = fdsolver(h)\n",
    "x = np.linspace(-4, 4, 8 / h + 1)\n",
    "fref = 40 * (1 - np.cosh(np.sqrt(0.2) * x)/np.cosh(np.sqrt(0.2) * 4))\n",
    "fref = fref[1 : int(8 / h)]\n",
    "f = f[1 : int(8 / h)]\n",
    "relerror = abs(fref - f) / fref\n",
    "error[4] = max(relerror)\n",
    "print error"
   ]
  },
  {
   "cell_type": "code",
   "execution_count": 217,
   "metadata": {
    "collapsed": false
   },
   "outputs": [
    {
     "name": "stdout",
     "output_type": "stream",
     "text": [
      "[   8.   16.   80.  160.  800.]\n"
     ]
    },
    {
     "data": {
      "text/plain": [
       "<matplotlib.text.Text at 0x16dcbe10>"
      ]
     },
     "execution_count": 217,
     "metadata": {},
     "output_type": "execute_result"
    },
    {
     "data": {
      "image/png": "[encoded data removed]",
      "text/plain": [
       "<matplotlib.figure.Figure at 0x144e0240>"
      ]
     },
     "metadata": {},
     "output_type": "display_data"
    }
   ],
   "source": [
    "h = np.array([1, 0.5, 0.1, 0.05, 0.01])\n",
    "mesh = 8 / h\n",
    "print mesh\n",
    "plt.plot(mesh, error, 'r')\n",
    "plt.xlabel(\"Number of meshes\")\n",
    "plt.ylabel(\"Relative error\")\n",
    "plt.yscale('log')\n",
    "plt.title(\"Relative error vs. number of meshes\")"
   ]
  },
  {
   "cell_type": "code",
   "execution_count": 218,
   "metadata": {
    "collapsed": false
   },
   "outputs": [
    {
     "name": "stdout",
     "output_type": "stream",
     "text": [
      "[[ 200.7 -100.     0.  ...,    0.     0.     0. ]\n",
      " [-100.   200.7 -100.  ...,    0.     0.     0. ]\n",
      " [   0.  -100.   200.7 ...,    0.     0.     0. ]\n",
      " ..., \n",
      " [   0.     0.     0.  ...,  200.7 -100.     0. ]\n",
      " [   0.     0.     0.  ..., -100.   200.7 -100. ]\n",
      " [   0.     0.     0.  ...,    0.  -100.   200.7]]\n"
     ]
    }
   ],
   "source": [
    "#4. \n",
    "n = 79\n",
    "A = np.zeros(shape=(n,n))\n",
    "for i in range(0,n):\n",
    "    if(i == 0):\n",
    "        A[0][0] = 200.7\n",
    "        A[0][1] = -100\n",
    "    elif(i == n-1):\n",
    "        A[n-1][n-1] = 200.7\n",
    "        A[n-1][n-2] = -100\n",
    "    else:\n",
    "        A[i][i - 1] = -100\n",
    "        A[i][i] = 200.7\n",
    "        A[i][i + 1] = -100\n",
    "        \n",
    "print A"
   ]
  },
  {
   "cell_type": "code",
   "execution_count": 228,
   "metadata": {
    "collapsed": false
   },
   "outputs": [
    {
     "name": "stdout",
     "output_type": "stream",
     "text": [
      "K value: 0.701617363566\n",
      "Number of iteration: 8\n"
     ]
    },
    {
     "data": {
      "text/plain": [
       "<matplotlib.text.Text at 0x17e95d68>"
      ]
     },
     "execution_count": 228,
     "metadata": {},
     "output_type": "execute_result"
    },
    {
     "data": {
      "image/png": "[encoded data removed]",
      "text/plain": [
       "<matplotlib.figure.Figure at 0x16af1780>"
      ]
     },
     "metadata": {},
     "output_type": "display_data"
    }
   ],
   "source": [
    "def fdeigenvaluesolver(A, finitial, kinitial, ftol, ktol):\n",
    "    Q = 1/kinitial*0.6*finitial\n",
    "    ftemp = finitial\n",
    "    k = kinitial\n",
    "    ferr = 1\n",
    "    kerr = 1\n",
    "    i = 0\n",
    "    while ferr > ftol or kerr > ktol:\n",
    "        fnew, fiter = gauss(A, Q, ftemp)\n",
    "        Qnew = 1/k*0.6*fnew\n",
    "        knew = k*np.sum(Qnew)/np.sum(Q)\n",
    "        #ferr = abs(la.norm(ftemp) - la.norm(fnew))\n",
    "        ferr = abs(la.norm(ftemp) - la.norm(fnew))\n",
    "        kerr = abs(k - knew)\n",
    "        k = knew\n",
    "        Q = Qnew\n",
    "        ftemp = fnew\n",
    "        i += 1\n",
    "    ftemp = np.append([0],ftemp)\n",
    "    ftemp = np.append(ftemp, [0])\n",
    "    print (\"K value: \" + str(k))\n",
    "    return ftemp, i\n",
    "finitial = fdsolver(0.1)\n",
    "fsol, fi = fdeigenvaluesolver(A, finitial[1 : -1]/la.norm(finitial[1 : -1]) , 1, 0.0001, 0.0001)\n",
    "print (\"Number of iteration: \" + str(fi))\n",
    "\n",
    "x = np.linspace(-4, 4, 81)\n",
    "plt.plot(x, fsol, 'r')\n",
    "plt.xlabel(\"x (cm)\")\n",
    "plt.ylabel(\"Flux (n/cm^2 s)\")\n",
    "plt.title(\"Flux vs. x\")\n",
    "\n"
   ]
  },
  {
   "cell_type": "code",
   "execution_count": null,
   "metadata": {
    "collapsed": true
   },
   "outputs": [],
   "source": []
  }
 ],
 "metadata": {
  "kernelspec": {
   "display_name": "Python 2",
   "language": "python",
   "name": "python2"
  },
  "language_info": {
   "codemirror_mode": {
    "name": "ipython",
    "version": 2
   },
   "file_extension": ".py",
   "mimetype": "text/x-python",
   "name": "python",
   "nbconvert_exporter": "python",
   "pygments_lexer": "ipython2",
   "version": "2.7.10"
  }
 },
 "nbformat": 4,
 "nbformat_minor": 0
}
