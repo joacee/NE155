{
 "cells": [
  {
   "cell_type": "code",
   "execution_count": 3,
   "metadata": {
    "collapsed": false,
    "scrolled": true
   },
   "outputs": [
    {
     "name": "stdout",
     "output_type": "stream",
     "text": [
      "[[ 2. -1.  0. ...,  0.  0.  0.]\n",
      " [-1.  2. -1. ...,  0.  0.  0.]\n",
      " [ 0. -1.  2. ...,  0.  0.  0.]\n",
      " ..., \n",
      " [ 0.  0.  0. ...,  2. -1.  0.]\n",
      " [ 0.  0.  0. ..., -1.  2. -1.]\n",
      " [ 0.  0.  0. ...,  0. -1.  2.]]\n",
      "[  0.   1.   2.   3.   4.   5.   6.   7.   8.   9.  10.  11.  12.  13.  14.\n",
      "  15.  16.  17.  18.  19.  20.  21.  22.  23.  24.  25.  26.  27.  28.  29.\n",
      "  30.  31.  32.  33.  34.  35.  36.  37.  38.  39.  40.  41.  42.  43.  44.\n",
      "  45.  46.  47.  48.  49.  50.  51.  52.  53.  54.  55.  56.  57.  58.  59.\n",
      "  60.  61.  62.  63.  64.  65.  66.  67.  68.  69.  70.  71.  72.  73.  74.\n",
      "  75.  76.  77.  78.  79.  80.  81.  82.  83.  84.  85.  86.  87.  88.  89.\n",
      "  90.  91.  92.  93.  94.  95.  96.  97.  98.  99.]\n"
     ]
    }
   ],
   "source": [
    "import numpy as np\n",
    "import scipy as sp\n",
    "import scipy.linalg as solve\n",
    "#PROBLEM 1.\n",
    "#A. construct matrices\n",
    "\n",
    "A = np.zeros(shape=(100,100))\n",
    "B = np.zeros(100)\n",
    "for i in range(0,100):\n",
    "    if(i == 0):\n",
    "        A[0][0] = 2\n",
    "        A[0][1] = -1\n",
    "        B[0] = 0\n",
    "    elif(i == 99):\n",
    "        A[99][99] = 2\n",
    "        A[99][98] = -1\n",
    "        B[99] = 99\n",
    "    else:\n",
    "        A[i][i - 1] = -1\n",
    "        A[i][i] = 2\n",
    "        A[i][i + 1] = -1\n",
    "        B[i] = i\n",
    "        \n",
    "print A\n",
    "print B"
   ]
  },
  {
   "cell_type": "code",
   "execution_count": 121,
   "metadata": {
    "collapsed": false
   },
   "outputs": [
    {
     "name": "stdout",
     "output_type": "stream",
     "text": [
      "4133.6429268\n"
     ]
    }
   ],
   "source": [
    "#B. CONDITION NUMBER\n",
    "cond = np.linalg.cond(A)\n",
    "print cond"
   ]
  },
  {
   "cell_type": "code",
   "execution_count": 2,
   "metadata": {
    "collapsed": false
   },
   "outputs": [
    {
     "name": "stdout",
     "output_type": "stream",
     "text": [
      "[  1650.   3300.   4949.   6596.   8240.   9880.  11515.  13144.  14766.\n",
      "  16380.  17985.  19580.  21164.  22736.  24295.  25840.  27370.  28884.\n",
      "  30381.  31860.  33320.  34760.  36179.  37576.  38950.  40300.  41625.\n",
      "  42924.  44196.  45440.  46655.  47840.  48994.  50116.  51205.  52260.\n",
      "  53280.  54264.  55211.  56120.  56990.  57820.  58609.  59356.  60060.\n",
      "  60720.  61335.  61904.  62426.  62900.  63325.  63700.  64024.  64296.\n",
      "  64515.  64680.  64790.  64844.  64841.  64780.  64660.  64480.  64239.\n",
      "  63936.  63570.  63140.  62645.  62084.  61456.  60760.  59995.  59160.\n",
      "  58254.  57276.  56225.  55100.  53900.  52624.  51271.  49840.  48330.\n",
      "  46740.  45069.  43316.  41480.  39560.  37555.  35464.  33286.  31020.\n",
      "  28665.  26220.  23684.  21056.  18335.  15520.  12610.   9604.   6501.\n",
      "   3300.]\n"
     ]
    }
   ],
   "source": [
    "#C. explicit solution by inverting A and multiplying b\n",
    "Ainv = np.linalg.inv(A)\n",
    "solution = np.dot(Ainv,B)\n",
    "print solution"
   ]
  },
  {
   "cell_type": "code",
   "execution_count": 3,
   "metadata": {
    "collapsed": false
   },
   "outputs": [
    {
     "name": "stdout",
     "output_type": "stream",
     "text": [
      "[  1650.   3300.   4949.   6596.   8240.   9880.  11515.  13144.  14766.\n",
      "  16380.  17985.  19580.  21164.  22736.  24295.  25840.  27370.  28884.\n",
      "  30381.  31860.  33320.  34760.  36179.  37576.  38950.  40300.  41625.\n",
      "  42924.  44196.  45440.  46655.  47840.  48994.  50116.  51205.  52260.\n",
      "  53280.  54264.  55211.  56120.  56990.  57820.  58609.  59356.  60060.\n",
      "  60720.  61335.  61904.  62426.  62900.  63325.  63700.  64024.  64296.\n",
      "  64515.  64680.  64790.  64844.  64841.  64780.  64660.  64480.  64239.\n",
      "  63936.  63570.  63140.  62645.  62084.  61456.  60760.  59995.  59160.\n",
      "  58254.  57276.  56225.  55100.  53900.  52624.  51271.  49840.  48330.\n",
      "  46740.  45069.  43316.  41480.  39560.  37555.  35464.  33286.  31020.\n",
      "  28665.  26220.  23684.  21056.  18335.  15520.  12610.   9604.   6501.\n",
      "   3300.]\n"
     ]
    }
   ],
   "source": [
    "#D. solution using scipy.linalg.solve\n",
    "solution2 = solve.solve(A,B)\n",
    "print solution2"
   ]
  },
  {
   "cell_type": "code",
   "execution_count": 4,
   "metadata": {
    "collapsed": false
   },
   "outputs": [
    {
     "data": {
      "image/png": "[encoded data removed]",
      "text/plain": [
       "<matplotlib.figure.Figure at 0x3f801d0>"
      ]
     },
     "metadata": {},
     "output_type": "display_data"
    }
   ],
   "source": [
    "#PLOT\n",
    "%matplotlib inline\n",
    "import matplotlib.pyplot as plt\n",
    "plt.plot(solution, 'ro', solution2, 'bx')\n",
    "plt.title(\"Explicit vs. Numerical\")\n",
    "plt.legend((\"Explicit\", \"Numerical\"), loc=\"lower center\")\n",
    "plt.ylabel('x')\n",
    "plt.xlabel('j (x indices)')\n",
    "plt.show()\n"
   ]
  },
  {
   "cell_type": "markdown",
   "metadata": {},
   "source": [
    "PROBLEM 4 - solving the equation using an absolute tolerance of $10^{-6}$ and w = 1.1 for SOR"
   ]
  },
  {
   "cell_type": "code",
   "execution_count": 12,
   "metadata": {
    "collapsed": false
   },
   "outputs": [],
   "source": [
    "def jacobi(A, b, x, tol = 10**(-6), sc = 10**(-6)):\n",
    "    #FORM: A x = b ----> A: matrix, x: vector, b: vector\n",
    "    #A, b, x - matrices used to generate soln, x is first guess of soln\n",
    "    #tol = absolute tolerance for convergence (default is set to 10^-6)\n",
    "    #sc = stopping criterion (relative error)\n",
    "    #to use only tol or sc option for convergence condition, set the other option to -1.\n",
    "    length = len(x)\n",
    "    D = np.diag(A)\n",
    "    R = A - np.diagflat(D)\n",
    "    D = np.diagflat(D)\n",
    "    i = 1\n",
    "    temp = x\n",
    "    x = np.dot(np.linalg.inv(D),(b - np.dot(R,x)))\n",
    "    err = abs(temp - x)\n",
    "    maxerr = max(err)\n",
    "    maxrelerr = max(err / x)\n",
    "    while (maxerr > tol and maxrelerr > sc):\n",
    "        i += 1\n",
    "        temp = x\n",
    "        x = np.dot(np.linalg.inv(D),(b - np.dot(R,x)))\n",
    "        err = abs(temp - x)\n",
    "        maxerr = max(err)\n",
    "        maxrelerr = max(err / x)\n",
    "    return (x,i) #Return solution and number of iterations"
   ]
  },
  {
   "cell_type": "code",
   "execution_count": 13,
   "metadata": {
    "collapsed": true
   },
   "outputs": [],
   "source": [
    "def gauss(A, b, x,  tol = 10**(-6), sc = 10**(-6)):\n",
    "    #FORM: A x = b ----> A: matrix, x: vector, b: vector\n",
    "    #A, b, x - matrices used to generate soln, x is first guess of soln\n",
    "    #tol = absolute tolerance for convergence (default is set to 10^-6)\n",
    "    #sc = stopping criterion (relative error)\n",
    "    #to use only tol or sc option for convergence condition, set the other option to -1.\n",
    "    LD = np.tril(A)\n",
    "    U = A - LD\n",
    "    i = 1\n",
    "    temp = x\n",
    "    x = np.dot(np.linalg.inv(LD), b - np.dot(U, x))\n",
    "    err = abs(temp - x)\n",
    "    maxerr = max(err) \n",
    "    maxrelerr = max(err / x)\n",
    "    while (maxerr > tol and maxrelerr > sc):\n",
    "        i += 1\n",
    "        temp = x\n",
    "        x = np.dot(np.linalg.inv(LD), b - np.dot(U, x))\n",
    "        err = abs(temp - x)\n",
    "        maxerr = max(err)\n",
    "        maxrelerr = max(err / x)\n",
    "    return (x,i) #Return solution and number of iterations"
   ]
  },
  {
   "cell_type": "code",
   "execution_count": 14,
   "metadata": {
    "collapsed": false
   },
   "outputs": [],
   "source": [
    "def SOR(A, b, x, w, tol = 10**(-6), sc = 10**(-6)):\n",
    "    #FORM: A x = b ----> A: matrix, x: vector, b: vector\n",
    "    #A, b, x - matrices used to generate soln, x is first guess of soln\n",
    "    #tol = absolute tolerance for convergence (default is set to 10^-6)\n",
    "    #sc = stopping criterion (relative error)\n",
    "    #w = variable for SOR\n",
    "    #to use only tol or sc option for convergence condition, set the other option to -1.\n",
    "    vector = np.zeros(1)\n",
    "    L = np.tril(A, -1)\n",
    "    D = np.diagflat(np.diag(A))\n",
    "    U = A - L - D\n",
    "    i = 1\n",
    "    temp = x\n",
    "    x = np.dot(np.linalg.inv(w*L + D), w*b - np.dot( w * U - (1 - w)*D, x))\n",
    "    err = abs(temp - x)\n",
    "    maxerr = max(err)  \n",
    "    maxrelerr = max(err / x)\n",
    "    while (maxerr > tol and maxrelerr > sc):\n",
    "        i += 1\n",
    "        temp = x\n",
    "        x = np.dot(np.linalg.inv(w*L + D), w*b - np.dot( w * U - (1 - w)*D, x))\n",
    "        err = abs(temp - x)\n",
    "        maxerr = max(err)\n",
    "        maxrelerr = max(err / x)\n",
    "    return (x,i)"
   ]
  },
  {
   "cell_type": "code",
   "execution_count": 15,
   "metadata": {
    "collapsed": false
   },
   "outputs": [
    {
     "name": "stdout",
     "output_type": "stream",
     "text": [
      "[[ 4. -1.  0.  0.  0.]\n",
      " [-1.  4. -1.  0.  0.]\n",
      " [ 0. -1.  4. -1.  0.]\n",
      " [ 0.  0. -1.  4. -1.]\n",
      " [ 0.  0.  0. -1.  4.]]* x = [ 100.  100.  100.  100.  100.]\n",
      "\n",
      "Explicit Solution: [ 36.53846154  46.15384615  48.07692308  46.15384615  36.53846154]\n",
      "\n"
     ]
    }
   ],
   "source": [
    "A1 = np.zeros(shape=(5,5))\n",
    "B1 = np.zeros(5)\n",
    "for i in range(0,5):\n",
    "    if(i == 0):\n",
    "        A1[0][0] = 4\n",
    "        A1[0][1] = -1\n",
    "        B1[0] = 100\n",
    "    elif(i == 4):\n",
    "        A1[4][4] = 4\n",
    "        A1[4][3] = -1\n",
    "        B1[4] = 100\n",
    "    else:\n",
    "        A1[i][i - 1] = -1\n",
    "        A1[i][i] = 4\n",
    "        A1[i][i + 1] = -1\n",
    "        B1[i] = 100\n",
    "print str(A1) + \"* x = \" + str(B1) + \"\\n\" \n",
    "print \"Explicit Solution: \" + str(np.dot(np.linalg.inv(A1), B1)) + \"\\n\""
   ]
  },
  {
   "cell_type": "code",
   "execution_count": 16,
   "metadata": {
    "collapsed": false
   },
   "outputs": [],
   "source": [
    "#A.\n",
    "x = np.zeros(5)\n",
    "jsol, jiter = jacobi(A1, B1, x, sc = -1) "
   ]
  },
  {
   "cell_type": "code",
   "execution_count": 9,
   "metadata": {
    "collapsed": false
   },
   "outputs": [],
   "source": [
    "#B.\n",
    "x = np.zeros(5)\n",
    "gsol, giter = gauss(A1, B1, x, sc = -1)"
   ]
  },
  {
   "cell_type": "code",
   "execution_count": 10,
   "metadata": {
    "collapsed": false
   },
   "outputs": [],
   "source": [
    "#C. \n",
    "x = np.zeros(5)\n",
    "SORsol, SORiter = SOR(A1, B1, x, 1.1, sc = -1)"
   ]
  },
  {
   "cell_type": "code",
   "execution_count": 11,
   "metadata": {
    "collapsed": false
   },
   "outputs": [
    {
     "name": "stdout",
     "output_type": "stream",
     "text": [
      "Jacobi: \n",
      "\n",
      "Number of Iterations: 22\n",
      "Solution: [ 36.53846125  46.15384569  48.07692251  46.15384569  36.53846125]\n",
      "\n",
      "Gauss-Seidel: \n",
      "\n",
      "Number of Iterations: 13\n",
      "Solution: [ 36.53846142  46.15384606  48.07692303  46.15384614  36.53846153]\n",
      "\n",
      "SOR: \n",
      "\n",
      "Number of Iterations: 10\n",
      "Solution: [ 36.53846152  46.15384616  48.07692305  46.15384615  36.53846154]\n",
      "\n"
     ]
    }
   ],
   "source": [
    "print \"Jacobi: \" + \"\\n\"\n",
    "print \"Number of Iterations: \" + str(jiter)\n",
    "print \"Solution: \" + str(jsol) + \"\\n\"\n",
    "print \"Gauss-Seidel: \" + \"\\n\"\n",
    "print \"Number of Iterations: \" + str(giter)\n",
    "print \"Solution: \" + str(gsol) + \"\\n\"\n",
    "print \"SOR: \" + \"\\n\"\n",
    "print \"Number of Iterations: \" + str(SORiter)\n",
    "print \"Solution: \" + str(SORsol) + \"\\n\""
   ]
  },
  {
   "cell_type": "code",
   "execution_count": 18,
   "metadata": {
    "collapsed": false
   },
   "outputs": [
    {
     "name": "stdout",
     "output_type": "stream",
     "text": [
      "Using Stopping Criterion of 10^-6\n",
      "Jacobi: \n",
      "\n",
      "Number of Iterations: 18\n",
      "Solution: [ 36.53845346  46.15383293  48.07690692  46.15383293  36.53845346]\n",
      "\n",
      "Gauss-Seidel: \n",
      "\n",
      "Number of Iterations: 11\n",
      "Solution: [ 36.53845816  46.15384362  48.07692181  46.15384568  36.53846142]\n",
      "\n",
      "SOR: \n",
      "\n",
      "Number of Iterations: 8\n",
      "Solution: [ 36.53846919  46.1538498   48.07692421  46.15384677  36.53846134]\n",
      "\n"
     ]
    }
   ],
   "source": [
    "# PROBLEM 5A - solving the equation using a stopping criterion of 10^-6 and 10^-8, w = 1.1 for SOR\n",
    "# SC = 10^-6\n",
    "x = np.zeros(5)\n",
    "jsol, jiter = jacobi(A1, B1, x, tol = -1) \n",
    "gsol, giter = gauss(A1, B1, x, tol = -1)\n",
    "SORsol, SORiter = SOR(A1, B1, x, 1.1, tol = -1)\n",
    "\n",
    "print \"Using Stopping Criterion of 10^-6\"\n",
    "print \"Jacobi: \" + \"\\n\"\n",
    "print \"Number of Iterations: \" + str(jiter)\n",
    "print \"Solution: \" + str(jsol) + \"\\n\"\n",
    "print \"Gauss-Seidel: \" + \"\\n\"\n",
    "print \"Number of Iterations: \" + str(giter)\n",
    "print \"Solution: \" + str(gsol) + \"\\n\"\n",
    "print \"SOR: \" + \"\\n\"\n",
    "print \"Number of Iterations: \" + str(SORiter)\n",
    "print \"Solution: \" + str(SORsol) + \"\\n\""
   ]
  },
  {
   "cell_type": "code",
   "execution_count": 19,
   "metadata": {
    "collapsed": false
   },
   "outputs": [
    {
     "name": "stdout",
     "output_type": "stream",
     "text": [
      "Using Stopping Criterion of 10^-8\n",
      "Jacobi: \n",
      "\n",
      "Number of Iterations: 23\n",
      "Solution: [ 36.53846142  46.15384594  48.07692284  46.15384594  36.53846142]\n",
      "\n",
      "Gauss-Seidel: \n",
      "\n",
      "Number of Iterations: 14\n",
      "Solution: [ 36.53846152  46.15384614  48.07692307  46.15384615  36.53846154]\n",
      "\n",
      "SOR: \n",
      "\n",
      "Number of Iterations: 10\n",
      "Solution: [ 36.53846152  46.15384616  48.07692305  46.15384615  36.53846154]\n",
      "\n"
     ]
    }
   ],
   "source": [
    "#SC = 10^-8\n",
    "jsol, jiter = jacobi(A1, B1, x, tol = -1, sc = 10**(-8)) \n",
    "gsol, giter = gauss(A1, B1, x, tol = -1, sc = 10**(-8))\n",
    "SORsol, SORiter = SOR(A1, B1, x, 1.1, tol = -1, sc = 10**(-8))\n",
    "\n",
    "print \"Using Stopping Criterion of 10^-8\"\n",
    "print \"Jacobi: \" + \"\\n\"\n",
    "print \"Number of Iterations: \" + str(jiter)\n",
    "print \"Solution: \" + str(jsol) + \"\\n\"\n",
    "print \"Gauss-Seidel: \" + \"\\n\"\n",
    "print \"Number of Iterations: \" + str(giter)\n",
    "print \"Solution: \" + str(gsol) + \"\\n\"\n",
    "print \"SOR: \" + \"\\n\"\n",
    "print \"Number of Iterations: \" + str(SORiter)\n",
    "print \"Solution: \" + str(SORsol) + \"\\n\""
   ]
  },
  {
   "cell_type": "code",
   "execution_count": 20,
   "metadata": {
    "collapsed": false
   },
   "outputs": [
    {
     "name": "stdout",
     "output_type": "stream",
     "text": [
      "Optimal value of w = 1.06\n"
     ]
    },
    {
     "data": {
      "text/plain": [
       "<matplotlib.text.Text at 0xfc337f0>"
      ]
     },
     "execution_count": 20,
     "metadata": {},
     "output_type": "execute_result"
    },
    {
     "data": {
      "image/png": "[encoded data removed]",
      "text/plain": [
       "<matplotlib.figure.Figure at 0x40d53c8>"
      ]
     },
     "metadata": {},
     "output_type": "display_data"
    }
   ],
   "source": [
    "# PROBLEM 5B - finding the optimal w for SOR method -- Plot w vs. number of iteration and find the minimum of the plot. \n",
    "# The minimum of the plot means the w value for that point makes the convergence fastest\n",
    "#I used a low tolerance value(10^-8), so that I can see greater range of distribution \n",
    "x = np.zeros(5)\n",
    "w = np.arange(0.05, 1.95, 0.01)\n",
    "y = np.zeros(len(w))\n",
    "for p in range(5, len(w) + 5):\n",
    "    SORsol, SORiter = SOR(A1, B1, x, p/100.0, tol = 10**(-8), sc = -1)\n",
    "    y[p - 5] = SORiter\n",
    "print \"Optimal value of w = \"  + str(w[np.argmin(y)])\n",
    "%matplotlib inline\n",
    "import matplotlib.pyplot as plt\n",
    "plt.plot(w, y, 'r')\n",
    "plt.xlabel(\"w\")\n",
    "plt.ylabel(\"Number of Iterations\")\n",
    "plt.axis([0, 2, 0, 100])\n",
    "plt.title(\"w vs. Number of Iterations\")"
   ]
  },
  {
   "cell_type": "code",
   "execution_count": null,
   "metadata": {
    "collapsed": true
   },
   "outputs": [],
   "source": []
  }
 ],
 "metadata": {
  "kernelspec": {
   "display_name": "Python 2",
   "language": "python",
   "name": "python2"
  },
  "language_info": {
   "codemirror_mode": {
    "name": "ipython",
    "version": 2
   },
   "file_extension": ".py",
   "mimetype": "text/x-python",
   "name": "python",
   "nbconvert_exporter": "python",
   "pygments_lexer": "ipython2",
   "version": "2.7.10"
  }
 },
 "nbformat": 4,
 "nbformat_minor": 0
}
